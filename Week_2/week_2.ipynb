{
 "cells": [
  {
   "cell_type": "code",
   "execution_count": 1,
   "metadata": {},
   "outputs": [
    {
     "name": "stdout",
     "output_type": "stream",
     "text": [
      "File 'housing.csv' downloaded successfully.\n"
     ]
    }
   ],
   "source": [
    "import requests\n",
    "\n",
    "url = \"https://raw.githubusercontent.com/alexeygrigorev/datasets/master/housing.csv\"\n",
    "response = requests.get(url)\n",
    "\n",
    "if response.status_code == 200:\n",
    "    with open(\"housing.csv\", \"wb\") as f:\n",
    "        f.write(response.content)\n",
    "    print(\"File 'housing.csv' downloaded successfully.\")\n",
    "else:\n",
    "    print(f\"Failed to download file. Status code: {response.status_code}\")\n"
   ]
  },
  {
   "cell_type": "code",
   "execution_count": 2,
   "metadata": {},
   "outputs": [],
   "source": [
    "import pandas as pd\n",
    "import numpy as np\n",
    "import matplotlib.pyplot as plt\n",
    "import seaborn as sns\n",
    "import plotly as px\n",
    "\n",
    "df = pd.read_csv('/Users/home/MLZoomcamp/Week_2/housing.csv')"
   ]
  },
  {
   "cell_type": "code",
   "execution_count": 3,
   "metadata": {},
   "outputs": [
    {
     "data": {
      "text/plain": [
       "Index(['longitude', 'latitude', 'housing_median_age', 'total_rooms',\n",
       "       'total_bedrooms', 'population', 'households', 'median_income',\n",
       "       'median_house_value', 'ocean_proximity'],\n",
       "      dtype='object')"
      ]
     },
     "execution_count": 3,
     "metadata": {},
     "output_type": "execute_result"
    }
   ],
   "source": [
    "df.columns"
   ]
  },
  {
   "cell_type": "code",
   "execution_count": 4,
   "metadata": {},
   "outputs": [
    {
     "name": "stderr",
     "output_type": "stream",
     "text": [
      "/Library/Frameworks/Python.framework/Versions/3.11/lib/python3.11/site-packages/seaborn/axisgrid.py:118: UserWarning: The figure layout has changed to tight\n",
      "  self._figure.tight_layout(*args, **kwargs)\n"
     ]
    },
    {
     "data": {
      "text/plain": [
       "<seaborn.axisgrid.FacetGrid at 0x1640b7f90>"
      ]
     },
     "execution_count": 4,
     "metadata": {},
     "output_type": "execute_result"
    },
    {
     "data": {
      "image/png": "[encoded data removed]",
      "text/plain": [
       "<Figure size 500x500 with 1 Axes>"
      ]
     },
     "metadata": {},
     "output_type": "display_data"
    }
   ],
   "source": [
    "data = df.median_house_value\n",
    "sns.displot(df, x = 'median_house_value')"
   ]
  },
  {
   "cell_type": "code",
   "execution_count": 5,
   "metadata": {},
   "outputs": [],
   "source": [
    "filtered_data =df[df['ocean_proximity'].isin(['<1H OCEAN', 'INLAND'])]\n",
    "\n",
    "# Select only the specified columns\n",
    "selected_columns = [\n",
    "    'latitude',\n",
    "    'longitude',\n",
    "    'housing_median_age',\n",
    "    'total_rooms',\n",
    "    'total_bedrooms',\n",
    "    'population',\n",
    "    'households',\n",
    "    'median_income',\n",
    "    'median_house_value'\n",
    "]\n",
    "\n",
    "# Create a new DataFrame with only the selected columns\n",
    "subset_data = filtered_data[selected_columns]"
   ]
  },
  {
   "cell_type": "code",
   "execution_count": 6,
   "metadata": {},
   "outputs": [
    {
     "data": {
      "text/plain": [
       "longitude               0\n",
       "latitude                0\n",
       "housing_median_age      0\n",
       "total_rooms             0\n",
       "total_bedrooms        207\n",
       "population              0\n",
       "households              0\n",
       "median_income           0\n",
       "median_house_value      0\n",
       "ocean_proximity         0\n",
       "dtype: int64"
      ]
     },
     "execution_count": 6,
     "metadata": {},
     "output_type": "execute_result"
    }
   ],
   "source": [
    "df.isnull().sum()"
   ]
  },
  {
   "cell_type": "code",
   "execution_count": 7,
   "metadata": {},
   "outputs": [
    {
     "data": {
      "text/plain": [
       "1195.0"
      ]
     },
     "execution_count": 7,
     "metadata": {},
     "output_type": "execute_result"
    }
   ],
   "source": [
    "subset_data.population.median()"
   ]
  },
  {
   "cell_type": "code",
   "execution_count": 8,
   "metadata": {},
   "outputs": [],
   "source": [
    "n = len(subset_data)\n",
    "n_test = int(n * 0.2)\n",
    "n_val = int(n * 0.2)\n",
    "n_train = n - n_test - n_val"
   ]
  },
  {
   "cell_type": "code",
   "execution_count": 9,
   "metadata": {},
   "outputs": [],
   "source": [
    "idx = np.arange(n)\n",
    "np.random.seed(42)\n",
    "np.random.shuffle(idx)\n",
    "\n",
    "df_train = subset_data.iloc[idx[:n_train]]\n",
    "df_val = subset_data.iloc[idx[n_train: n_train + n_val]]\n",
    "df_test = subset_data.iloc[idx[n_train + n_val:]]\n",
    "\n",
    "# Apply the log transformation to the median_house_value variable\n",
    "# train_data['median_house_value'] = np.log1p(train_data['median_house_value'])\n",
    "# val_data['median_house_value'] = np.log1p(val_data['median_house_value'])\n",
    "# test_data['median_house_value'] = np.log1p(test_data['median_house_value'])\n"
   ]
  },
  {
   "cell_type": "code",
   "execution_count": 10,
   "metadata": {},
   "outputs": [
    {
     "data": {
      "text/plain": [
       "(3137, 3137, 9413)"
      ]
     },
     "execution_count": 10,
     "metadata": {},
     "output_type": "execute_result"
    }
   ],
   "source": [
    "n_val, n_test, n_train"
   ]
  },
  {
   "cell_type": "code",
   "execution_count": 11,
   "metadata": {},
   "outputs": [],
   "source": [
    "df_train = df_train.reset_index(drop=True)\n",
    "df_val = df_val.reset_index(drop=True)\n",
    "df_test = df_test.reset_index(drop=True)"
   ]
  },
  {
   "cell_type": "code",
   "execution_count": 12,
   "metadata": {},
   "outputs": [],
   "source": [
    "y_train = np.log1p(df_train.median_house_value.values)\n",
    "y_val = np.log1p(df_val.median_house_value.values)\n",
    "y_test = np.log1p(df_test.median_house_value.values)\n",
    "\n",
    "df_train.drop(columns='median_house_value', inplace=True, errors='ignore')\n",
    "df_val.drop(columns='median_house_value', inplace=True, errors='ignore')\n",
    "df_test.drop(columns='median_house_value', inplace=True, errors='ignore')"
   ]
  },
  {
   "cell_type": "code",
   "execution_count": 13,
   "metadata": {},
   "outputs": [],
   "source": [
    "def with_zero(df: pd.DataFrame):\n",
    "    df.fillna(0, inplace=True)\n",
    "    return df\n",
    "\n",
    "def with_mean(df: pd.DataFrame, mean: float):\n",
    "    df.fillna(mean, inplace=True)\n",
    "    return df\n",
    "\n",
    "mean = df_train.total_bedrooms.mean()\n",
    "\n",
    "df_train_zeros = with_zero(df_train)\n",
    "df_val_zeros = with_zero(df_val)\n",
    "\n",
    "df_train_mean = with_mean(df_train, mean)\n",
    "df_val_mean = with_mean(df_val, mean)"
   ]
  },
  {
   "cell_type": "code",
   "execution_count": 14,
   "metadata": {},
   "outputs": [
    {
     "name": "stdout",
     "output_type": "stream",
     "text": [
      "0.34084790341714505\n",
      "0.34084790341714505\n"
     ]
    }
   ],
   "source": [
    "from sklearn.linear_model import LinearRegression\n",
    "from sklearn.metrics import mean_squared_error\n",
    "\n",
    "lr_1 = LinearRegression()\n",
    "lr_2 = LinearRegression()\n",
    "\n",
    "# for zeros\n",
    "lr_1.fit(df_train_zeros, y_train)\n",
    "pred = lr_1.predict(df_val_zeros)\n",
    "print(np.sqrt(mean_squared_error(y_val, pred)))\n",
    "\n",
    "# for mean\n",
    "lr_2.fit(df_train_mean, y_train)\n",
    "pred = lr_2.predict(df_val_mean)\n",
    "print(np.sqrt(mean_squared_error(y_val, pred)))\n",
    "\n"
   ]
  },
  {
   "cell_type": "code",
   "execution_count": 23,
   "metadata": {},
   "outputs": [
    {
     "name": "stdout",
     "output_type": "stream",
     "text": [
      "For r = 0, RMSE =  0.340847903417146\n",
      "For r = 1e-06, RMSE =  0.34084790341890686\n",
      "For r = 0.0001, RMSE =  0.3408479035932595\n",
      "For r = 0.001, RMSE =  0.3408479051782897\n",
      "For r = 0.01, RMSE =  0.3408479210292869\n",
      "For r = 0.1, RMSE =  0.34084807960899155\n",
      "For r = 1, RMSE =  0.34084967237260444\n",
      "For r = 5, RMSE =  0.3408569038465673\n",
      "For r = 10, RMSE =  0.3408662900969502\n",
      "0\n"
     ]
    }
   ],
   "source": [
    "from sklearn.linear_model import Ridge\n",
    "\n",
    "r = [0, 0.000001, 0.0001, 0.001, 0.01, 0.1, 1, 5, 10]\n",
    "best_rmse = float('inf')\n",
    "best_r = None\n",
    "lst = []\n",
    "for item in r:\n",
    "    ridge = Ridge(alpha=item)\n",
    "    ridge.fit(df_train_zeros, y_train)\n",
    "    preds = ridge.predict(df_val_zeros)\n",
    "    rmse = np.sqrt(mean_squared_error(y_val, preds))\n",
    "    if rmse < best_rmse:\n",
    "        best_rmse = rmse\n",
    "        best_r = item\n",
    "    lst.append(rmse)\n",
    "    print(f'For r = {item}, RMSE = ', np.sqrt(mean_squared_error(y_val, preds)))\n",
    "\n",
    "print(best_r)"
   ]
  },
  {
   "cell_type": "code",
   "execution_count": 29,
   "metadata": {},
   "outputs": [
    {
     "name": "stdout",
     "output_type": "stream",
     "text": [
      "0.34084790341714505\n",
      "0.34084790341714505\n",
      "0.34084790341714505\n",
      "0.34084790341714505\n",
      "0.34084790341714505\n",
      "0.34084790341714505\n",
      "0.34084790341714505\n",
      "0.34084790341714505\n",
      "0.34084790341714505\n",
      "0.34084790341714505\n",
      "Standard Deviation of RMSE Scores: 0.0\n"
     ]
    }
   ],
   "source": [
    "seeds = [0, 1, 2, 3, 4, 5, 6, 7, 8, 9]\n",
    "scores = []\n",
    "for seed in seeds:\n",
    "    idx = np.arange(n)\n",
    "    np.random.seed(seed)\n",
    "    np.random.shuffle(idx)\n",
    "\n",
    "    df_train = subset_data.iloc[idx[:n_train]]\n",
    "    df_val = subset_data.iloc[idx[n_train: n_train + n_val]]\n",
    "    df_test = subset_data.iloc[idx[n_train + n_val:]]\n",
    "\n",
    "    lr_1.fit(df_train_zeros, y_train)\n",
    "    pred = lr_1.predict(df_val_zeros)\n",
    "    print(np.sqrt(mean_squared_error(y_val, pred)))\n",
    "    scores.append(np.sqrt(mean_squared_error(y_val, pred)))\n",
    "\n",
    "\n",
    "std_deviation = np.std(scores)\n",
    "\n",
    "\n",
    "print(\"Standard Deviation of RMSE Scores:\", round(std_deviation, 5))"
   ]
  },
  {
   "cell_type": "code",
   "execution_count": 36,
   "metadata": {},
   "outputs": [
    {
     "name": "stdout",
     "output_type": "stream",
     "text": [
      "Standard Deviation of RMSE Scores: 0.0\n"
     ]
    }
   ],
   "source": [
    "def dot(xi, w):\n",
    "    n = len(xi)\n",
    "    \n",
    "    res = 0.0\n",
    "    \n",
    "    for j in range(n):\n",
    "        res = res + xi[j] * w[j]\n",
    "    \n",
    "    return res\n",
    "\n",
    "def train_linear_regression(X, y):\n",
    "    ones = np.ones(X.shape[0])\n",
    "    X = np.column_stack([ones, X])\n",
    "\n",
    "    XTX = X.T.dot(X)\n",
    "    XTX_inv = np.linalg.inv(XTX)\n",
    "    w_full = XTX_inv.dot(X.T).dot(y)\n",
    "    \n",
    "    return w_full[0], w_full[1:]\n",
    "\n",
    "def rmse(y, y_pred):\n",
    "    se = (y - y_pred) ** 2\n",
    "    mse = se.mean()\n",
    "    return np.sqrt(mse)\n",
    "\n",
    "seeds = [0, 1, 2, 3, 4, 5, 6, 7, 8, 9]\n",
    "scores = []\n",
    "\n",
    "for seed in seeds:\n",
    "    idx = np.arange(n)\n",
    "    np.random.seed(seed)\n",
    "    np.random.shuffle(idx)\n",
    "\n",
    "    df_train = subset_data.iloc[idx[:n_train]]\n",
    "    df_val = subset_data.iloc[idx[n_train: n_train + n_val]]\n",
    "    df_test = subset_data.iloc[idx[n_train + n_val:]]\n",
    "\n",
    "    w0, w = train_linear_regression(df_train_zeros, y_train)\n",
    "\n",
    "    y_pred = w0 + df_val_zeros.dot(w)\n",
    "    \n",
    "    scores.append(rmse(y_val, y_pred))\n",
    "\n",
    "# Calculate the standard deviation of RMSE scores\n",
    "std_deviation = np.std(scores)\n",
    "\n",
    "# Round the standard deviation to 3 decimal digits\n",
    "rounded_std_deviation = std_deviation\n",
    "\n",
    "print(\"Standard Deviation of RMSE Scores:\", rounded_std_deviation)"
   ]
  },
  {
   "cell_type": "code",
   "execution_count": 31,
   "metadata": {},
   "outputs": [
    {
     "data": {
      "text/plain": [
       "[0.3408479034176266,\n",
       " 0.3408479034176266,\n",
       " 0.3408479034176266,\n",
       " 0.3408479034176266,\n",
       " 0.3408479034176266,\n",
       " 0.3408479034176266,\n",
       " 0.3408479034176266,\n",
       " 0.3408479034176266,\n",
       " 0.3408479034176266,\n",
       " 0.3408479034176266]"
      ]
     },
     "execution_count": 31,
     "metadata": {},
     "output_type": "execute_result"
    }
   ],
   "source": [
    "scores"
   ]
  },
  {
   "cell_type": "code",
   "execution_count": 35,
   "metadata": {},
   "outputs": [
    {
     "name": "stdout",
     "output_type": "stream",
     "text": [
      "For r = 0, RMSE = 0.34085\n",
      "For r = 1e-06, RMSE = 0.34085\n",
      "For r = 0.0001, RMSE = 0.34085\n",
      "For r = 0.001, RMSE = 0.34085\n",
      "For r = 0.01, RMSE = 0.34088\n",
      "For r = 0.1, RMSE = 0.34129\n",
      "For r = 1, RMSE = 0.34490\n",
      "For r = 5, RMSE = 0.34774\n",
      "For r = 10, RMSE = 0.34831\n",
      "Best r: 0, Best RMSE: 0.34085\n"
     ]
    }
   ],
   "source": [
    "def train_linear_regression_reg(X, y, r=0.001):\n",
    "    ones = np.ones(X.shape[0])\n",
    "    X = np.column_stack([ones, X])\n",
    "\n",
    "    XTX = X.T.dot(X)\n",
    "    XTX = XTX + r * np.eye(XTX.shape[0])\n",
    "\n",
    "    XTX_inv = np.linalg.inv(XTX)\n",
    "    w_full = XTX_inv.dot(X.T).dot(y)\n",
    "    \n",
    "    return w_full[0], w_full[1:]\n",
    "\n",
    "r = [0, 0.000001, 0.0001, 0.001, 0.01, 0.1, 1, 5, 10]\n",
    "best_rmse = float('inf')\n",
    "best_r = None\n",
    "lst = []\n",
    "for item in r:\n",
    "    w0, w = train_linear_regression_reg(df_train_zeros, y_train, r=item)\n",
    "    y_pred = w0 + df_val_zeros.dot(w)\n",
    "    rmse_score = rmse(y_val, y_pred)\n",
    "    lst.append(rmse_score)\n",
    "    print(f'For r = {item}, RMSE = {rmse_score:.5f}')\n",
    "\n",
    "    if rmse_score < best_rmse:\n",
    "        best_rmse = rmse_score\n",
    "        best_r = item\n",
    "\n",
    "print(f'Best r: {best_r}, Best RMSE: {best_rmse:.5f}')"
   ]
  },
  {
   "cell_type": "code",
   "execution_count": 39,
   "metadata": {},
   "outputs": [
    {
     "name": "stdout",
     "output_type": "stream",
     "text": [
      "RMSE on the test dataset: 0.335\n"
     ]
    },
    {
     "name": "stderr",
     "output_type": "stream",
     "text": [
      "/var/folders/yq/sbcn4y5n0zl14q1_s6x_1sbr0000gn/T/ipykernel_69993/2120802162.py:14: SettingWithCopyWarning: \n",
      "A value is trying to be set on a copy of a slice from a DataFrame\n",
      "\n",
      "See the caveats in the documentation: https://pandas.pydata.org/pandas-docs/stable/user_guide/indexing.html#returning-a-view-versus-a-copy\n",
      "  df_train.drop(columns='median_house_value', inplace=True, errors='ignore')\n",
      "/var/folders/yq/sbcn4y5n0zl14q1_s6x_1sbr0000gn/T/ipykernel_69993/2120802162.py:15: SettingWithCopyWarning: \n",
      "A value is trying to be set on a copy of a slice from a DataFrame\n",
      "\n",
      "See the caveats in the documentation: https://pandas.pydata.org/pandas-docs/stable/user_guide/indexing.html#returning-a-view-versus-a-copy\n",
      "  df_val.drop(columns='median_house_value', inplace=True, errors='ignore')\n",
      "/var/folders/yq/sbcn4y5n0zl14q1_s6x_1sbr0000gn/T/ipykernel_69993/2120802162.py:16: SettingWithCopyWarning: \n",
      "A value is trying to be set on a copy of a slice from a DataFrame\n",
      "\n",
      "See the caveats in the documentation: https://pandas.pydata.org/pandas-docs/stable/user_guide/indexing.html#returning-a-view-versus-a-copy\n",
      "  df_test.drop(columns='median_house_value', inplace=True, errors='ignore')\n",
      "/var/folders/yq/sbcn4y5n0zl14q1_s6x_1sbr0000gn/T/ipykernel_69993/2622708125.py:2: SettingWithCopyWarning: \n",
      "A value is trying to be set on a copy of a slice from a DataFrame\n",
      "\n",
      "See the caveats in the documentation: https://pandas.pydata.org/pandas-docs/stable/user_guide/indexing.html#returning-a-view-versus-a-copy\n",
      "  df.fillna(0, inplace=True)\n"
     ]
    }
   ],
   "source": [
    "# Split the data into train/val/test sets with seed 9\n",
    "idx = np.arange(n)\n",
    "np.random.seed(9)\n",
    "np.random.shuffle(idx)\n",
    "\n",
    "df_train = subset_data.iloc[idx[:n_train]]\n",
    "df_val = subset_data.iloc[idx[n_train: n_train + n_val]]\n",
    "df_test = subset_data.iloc[idx[n_train + n_val:]]\n",
    "\n",
    "y_train = np.log1p(df_train.median_house_value.values)\n",
    "y_val = np.log1p(df_val.median_house_value.values)\n",
    "y_test = np.log1p(df_test.median_house_value.values)\n",
    "\n",
    "df_train.drop(columns='median_house_value', inplace=True, errors='ignore')\n",
    "df_val.drop(columns='median_house_value', inplace=True, errors='ignore')\n",
    "df_test.drop(columns='median_house_value', inplace=True, errors='ignore')\n",
    "\n",
    "df_train_zeros = with_zero(df_train)\n",
    "df_val_zeros = with_zero(df_val)\n",
    "df_test_zeros = with_zero(df_test)\n",
    "\n",
    "# Train a model with r=0.001\n",
    "w0, w = train_linear_regression_reg(df_train_zeros, y_train, r=0.001)\n",
    "\n",
    "# Make predictions on the test dataset\n",
    "y_pred_test = w0 + df_test_zeros.dot(w)\n",
    "\n",
    "# Calculate RMSE on the test dataset\n",
    "rmse_test = rmse(y_test, y_pred_test)\n",
    "\n",
    "print(f'RMSE on the test dataset: {rmse_test:.3f}')\n"
   ]
  },
  {
   "cell_type": "code",
   "execution_count": null,
   "metadata": {},
   "outputs": [],
   "source": []
  }
 ],
 "metadata": {
  "kernelspec": {
   "display_name": "Python 3",
   "language": "python",
   "name": "python3"
  },
  "language_info": {
   "codemirror_mode": {
    "name": "ipython",
    "version": 3
   },
   "file_extension": ".py",
   "mimetype": "text/x-python",
   "name": "python",
   "nbconvert_exporter": "python",
   "pygments_lexer": "ipython3",
   "version": "3.11.3"
  },
  "orig_nbformat": 4
 },
 "nbformat": 4,
 "nbformat_minor": 2
}
